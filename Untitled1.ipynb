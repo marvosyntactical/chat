{
 "cells": [
  {
   "cell_type": "code",
   "execution_count": null,
   "id": "2ba85324-634d-490b-8747-9d66d1756b3b",
   "metadata": {},
   "outputs": [],
   "source": [
    "# imports"
   ]
  }
 ],
 "metadata": {
  "kernelspec": {
   "display_name": "Python 3 (ipykernel)",
   "language": "python",
   "name": "python3"
  },
  "language_info": {
   "codemirror_mode": {
    "name": "ipython",
    "version": 3
   },
   "file_extension": ".py",
   "mimetype": "text/x-python",
   "name": "python",
   "nbconvert_exporter": "python",
   "pygments_lexer": "ipython3",
   "version": "3.10.6"
  }
 },
 "nbformat": 4,
 "nbformat_minor": 5
}
